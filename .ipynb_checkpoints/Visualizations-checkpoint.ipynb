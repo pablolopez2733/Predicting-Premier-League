{
 "cells": [
  {
   "cell_type": "markdown",
   "metadata": {},
   "source": [
    "# Visualizations"
   ]
  },
  {
   "cell_type": "code",
   "execution_count": 1,
   "metadata": {},
   "outputs": [],
   "source": [
    "import pandas as pd"
   ]
  },
  {
   "cell_type": "code",
   "execution_count": 2,
   "metadata": {},
   "outputs": [
    {
     "data": {
      "text/html": [
       "<div>\n",
       "<style scoped>\n",
       "    .dataframe tbody tr th:only-of-type {\n",
       "        vertical-align: middle;\n",
       "    }\n",
       "\n",
       "    .dataframe tbody tr th {\n",
       "        vertical-align: top;\n",
       "    }\n",
       "\n",
       "    .dataframe thead th {\n",
       "        text-align: right;\n",
       "    }\n",
       "</style>\n",
       "<table border=\"1\" class=\"dataframe\">\n",
       "  <thead>\n",
       "    <tr style=\"text-align: right;\">\n",
       "      <th></th>\n",
       "      <th>team</th>\n",
       "      <th>AvgValue</th>\n",
       "      <th>AvgFifa</th>\n",
       "      <th>AvgRating</th>\n",
       "      <th>Avg90</th>\n",
       "      <th>AvgGoal</th>\n",
       "      <th>Points</th>\n",
       "      <th>Wins</th>\n",
       "      <th>Draws</th>\n",
       "      <th>Losses</th>\n",
       "      <th>PPG</th>\n",
       "    </tr>\n",
       "  </thead>\n",
       "  <tbody>\n",
       "    <tr>\n",
       "      <th>0</th>\n",
       "      <td>Arsenal15</td>\n",
       "      <td>22.466667</td>\n",
       "      <td>81.199997</td>\n",
       "      <td>7.148000</td>\n",
       "      <td>0.748667</td>\n",
       "      <td>1.841963</td>\n",
       "      <td>71</td>\n",
       "      <td>20</td>\n",
       "      <td>11</td>\n",
       "      <td>7</td>\n",
       "      <td>1.868421</td>\n",
       "    </tr>\n",
       "    <tr>\n",
       "      <th>1</th>\n",
       "      <td>Aston Villa15</td>\n",
       "      <td>4.633333</td>\n",
       "      <td>75.666664</td>\n",
       "      <td>6.692000</td>\n",
       "      <td>-1.305333</td>\n",
       "      <td>0.355265</td>\n",
       "      <td>17</td>\n",
       "      <td>3</td>\n",
       "      <td>3</td>\n",
       "      <td>32</td>\n",
       "      <td>0.447368</td>\n",
       "    </tr>\n",
       "    <tr>\n",
       "      <th>2</th>\n",
       "      <td>Bournemouth15</td>\n",
       "      <td>3.133333</td>\n",
       "      <td>72.066666</td>\n",
       "      <td>6.767334</td>\n",
       "      <td>-0.537333</td>\n",
       "      <td>0.691051</td>\n",
       "      <td>42</td>\n",
       "      <td>11</td>\n",
       "      <td>9</td>\n",
       "      <td>18</td>\n",
       "      <td>1.105263</td>\n",
       "    </tr>\n",
       "    <tr>\n",
       "      <th>3</th>\n",
       "      <td>Chelsea15</td>\n",
       "      <td>27.133333</td>\n",
       "      <td>83.133331</td>\n",
       "      <td>6.909333</td>\n",
       "      <td>0.149333</td>\n",
       "      <td>1.121557</td>\n",
       "      <td>50</td>\n",
       "      <td>12</td>\n",
       "      <td>14</td>\n",
       "      <td>12</td>\n",
       "      <td>1.315789</td>\n",
       "    </tr>\n",
       "    <tr>\n",
       "      <th>4</th>\n",
       "      <td>Crystal Palace15</td>\n",
       "      <td>6.600000</td>\n",
       "      <td>75.466667</td>\n",
       "      <td>6.822000</td>\n",
       "      <td>-0.272000</td>\n",
       "      <td>0.817202</td>\n",
       "      <td>42</td>\n",
       "      <td>11</td>\n",
       "      <td>9</td>\n",
       "      <td>18</td>\n",
       "      <td>1.105263</td>\n",
       "    </tr>\n",
       "  </tbody>\n",
       "</table>\n",
       "</div>"
      ],
      "text/plain": [
       "               team   AvgValue    AvgFifa  AvgRating     Avg90   AvgGoal  \\\n",
       "0         Arsenal15  22.466667  81.199997   7.148000  0.748667  1.841963   \n",
       "1     Aston Villa15   4.633333  75.666664   6.692000 -1.305333  0.355265   \n",
       "2     Bournemouth15   3.133333  72.066666   6.767334 -0.537333  0.691051   \n",
       "3         Chelsea15  27.133333  83.133331   6.909333  0.149333  1.121557   \n",
       "4  Crystal Palace15   6.600000  75.466667   6.822000 -0.272000  0.817202   \n",
       "\n",
       "   Points  Wins  Draws  Losses       PPG  \n",
       "0      71    20     11       7  1.868421  \n",
       "1      17     3      3      32  0.447368  \n",
       "2      42    11      9      18  1.105263  \n",
       "3      50    12     14      12  1.315789  \n",
       "4      42    11      9      18  1.105263  "
      ]
     },
     "execution_count": 2,
     "metadata": {},
     "output_type": "execute_result"
    }
   ],
   "source": [
    "df= pd.read_csv(\"CleanData/TeamMetrics.csv\")\n",
    "df.head()"
   ]
  },
  {
   "cell_type": "code",
   "execution_count": null,
   "metadata": {},
   "outputs": [],
   "source": []
  }
 ],
 "metadata": {
  "kernelspec": {
   "display_name": "Python [conda env:tareaMin] *",
   "language": "python",
   "name": "conda-env-tareaMin-py"
  },
  "language_info": {
   "codemirror_mode": {
    "name": "ipython",
    "version": 3
   },
   "file_extension": ".py",
   "mimetype": "text/x-python",
   "name": "python",
   "nbconvert_exporter": "python",
   "pygments_lexer": "ipython3",
   "version": "3.6.9"
  }
 },
 "nbformat": 4,
 "nbformat_minor": 4
}
